{
 "cells": [
  {
   "cell_type": "code",
   "execution_count": 7,
   "id": "0f6d2b7a",
   "metadata": {},
   "outputs": [],
   "source": [
    "from sklearn import tree\n",
    "import pandas as pd\n",
    "import numpy as np\n",
    "pd.set_option('display.max_rows', 1000)\n",
    "pd.set_option('display.max_columns', 1000)\n",
    "%matplotlib inline\n",
    "import matplotlib.pyplot as plt\n",
    "import seaborn as sns\n",
    "from IPython.display import SVG\n",
    "from graphviz import Source\n",
    "from IPython.display import display\n",
    "from IPython.display import HTML"
   ]
  },
  {
   "cell_type": "code",
   "execution_count": 6,
   "id": "c689c8bf",
   "metadata": {},
   "outputs": [
    {
     "name": "stdout",
     "output_type": "stream",
     "text": [
      "/Users/maria/Desktop/Датасет_рыба/with_same_ship_ids_between_db\n"
     ]
    }
   ],
   "source": [
    "cd with_same_ship_ids_between_db/"
   ]
  },
  {
   "cell_type": "code",
   "execution_count": 8,
   "id": "952494f0",
   "metadata": {},
   "outputs": [],
   "source": [
    "catch = pd.read_csv(\"catch.csv\")"
   ]
  },
  {
   "cell_type": "code",
   "execution_count": 10,
   "id": "5976b01c",
   "metadata": {},
   "outputs": [],
   "source": [
    "product = pd.read_csv(\"product.csv\")"
   ]
  },
  {
   "cell_type": "code",
   "execution_count": 11,
   "id": "ec9d258d",
   "metadata": {},
   "outputs": [],
   "source": [
    "ext1 = pd.read_csv(\"Ext.csv\")\n",
    "ext2 = pd.read_csv(\"Ext2.csv\")"
   ]
  },
  {
   "cell_type": "code",
   "execution_count": 12,
   "id": "b37a4e93",
   "metadata": {},
   "outputs": [],
   "source": [
    "catch_product = pd.merge(catch, product, how=\"outer\", on=['id_ves','date'])"
   ]
  },
  {
   "cell_type": "code",
   "execution_count": 13,
   "id": "fe45c463",
   "metadata": {},
   "outputs": [],
   "source": [
    "ext1_2 = pd.merge(ext1, ext2, how=\"outer\", on=['id_vsd'])"
   ]
  },
  {
   "cell_type": "code",
   "execution_count": 14,
   "id": "f37baa20",
   "metadata": {},
   "outputs": [],
   "source": [
    "fish_numbers = pd.read_csv('fish.csv', sep=';')\n",
    "fish_id_new = fish_numbers.id_fish.unique()"
   ]
  },
  {
   "cell_type": "code",
   "execution_count": 15,
   "id": "fb62ef82",
   "metadata": {},
   "outputs": [],
   "source": [
    "new_df = pd.DataFrame(columns = ['fish_id', 'fish', 'catch_volume', 'rec_volume', 'id_own'])\n",
    "\n",
    "\n",
    "for fish in fish_id_new:\n",
    "    if catch_product.loc[catch_product['id_fish'] == fish].catch_volume.sum()*1000  <  ext1_2.loc[ext1_2['id_fish'] == fish].volume.sum():\n",
    "        new_df = new_df.append({'fish_id': fish, \n",
    "                                'fish': fish_numbers.loc[fish_numbers['id_fish'] == fish].fish.to_list()[0], \n",
    "                                'catch_volume': catch_product.loc[catch_product['id_fish'] == fish].catch_volume.sum()*1000,\n",
    "                                'rec_volume':ext1_2.loc[ext1_2['id_fish'] == fish].volume.sum(),\n",
    "                               'id_own': ext1_2.loc[ext1_2['id_fish'] == fish].id_own.to_list()}, ignore_index=True)\n",
    " "
   ]
  },
  {
   "cell_type": "code",
   "execution_count": 17,
   "id": "07073dda",
   "metadata": {},
   "outputs": [],
   "source": [
    "zero_catch = new_df.loc[new_df['catch_volume'] == 0]"
   ]
  },
  {
   "cell_type": "code",
   "execution_count": 18,
   "id": "991b63fa",
   "metadata": {},
   "outputs": [
    {
     "data": {
      "text/html": [
       "<div>\n",
       "<style scoped>\n",
       "    .dataframe tbody tr th:only-of-type {\n",
       "        vertical-align: middle;\n",
       "    }\n",
       "\n",
       "    .dataframe tbody tr th {\n",
       "        vertical-align: top;\n",
       "    }\n",
       "\n",
       "    .dataframe thead th {\n",
       "        text-align: right;\n",
       "    }\n",
       "</style>\n",
       "<table border=\"1\" class=\"dataframe\">\n",
       "  <thead>\n",
       "    <tr style=\"text-align: right;\">\n",
       "      <th></th>\n",
       "      <th>fish_id</th>\n",
       "      <th>fish</th>\n",
       "      <th>catch_volume</th>\n",
       "      <th>rec_volume</th>\n",
       "      <th>id_own</th>\n",
       "    </tr>\n",
       "  </thead>\n",
       "  <tbody>\n",
       "    <tr>\n",
       "      <th>0</th>\n",
       "      <td>45</td>\n",
       "      <td>аргентина</td>\n",
       "      <td>0.0</td>\n",
       "      <td>1203.0</td>\n",
       "      <td>[1002.0, 1002.0, 1002.0, 1002.0, 1002.0, 1002....</td>\n",
       "    </tr>\n",
       "    <tr>\n",
       "      <th>1</th>\n",
       "      <td>71</td>\n",
       "      <td>треска ярусная</td>\n",
       "      <td>0.0</td>\n",
       "      <td>45780.0</td>\n",
       "      <td>[1177.0, 896.0]</td>\n",
       "    </tr>\n",
       "    <tr>\n",
       "      <th>2</th>\n",
       "      <td>302</td>\n",
       "      <td>корюшка</td>\n",
       "      <td>0.0</td>\n",
       "      <td>66.0</td>\n",
       "      <td>[-1.0, 1219.0]</td>\n",
       "    </tr>\n",
       "    <tr>\n",
       "      <th>3</th>\n",
       "      <td>512</td>\n",
       "      <td>ставрида</td>\n",
       "      <td>0.0</td>\n",
       "      <td>50310.0</td>\n",
       "      <td>[1274.0, 1274.0]</td>\n",
       "    </tr>\n",
       "    <tr>\n",
       "      <th>6</th>\n",
       "      <td>863</td>\n",
       "      <td>креветка гренландская</td>\n",
       "      <td>0.0</td>\n",
       "      <td>1414.0</td>\n",
       "      <td>[1202.0]</td>\n",
       "    </tr>\n",
       "    <tr>\n",
       "      <th>8</th>\n",
       "      <td>885</td>\n",
       "      <td>петух морской</td>\n",
       "      <td>0.0</td>\n",
       "      <td>644.0</td>\n",
       "      <td>[1002.0, 1002.0]</td>\n",
       "    </tr>\n",
       "    <tr>\n",
       "      <th>10</th>\n",
       "      <td>212</td>\n",
       "      <td>макрурус северный</td>\n",
       "      <td>0.0</td>\n",
       "      <td>60.0</td>\n",
       "      <td>[1241.0, 1274.0]</td>\n",
       "    </tr>\n",
       "    <tr>\n",
       "      <th>12</th>\n",
       "      <td>158</td>\n",
       "      <td>гадикул (большеглазая тресочка)</td>\n",
       "      <td>0.0</td>\n",
       "      <td>5310.0</td>\n",
       "      <td>[1002.0, 1002.0, 1002.0, 1002.0, 1002.0, 1002....</td>\n",
       "    </tr>\n",
       "    <tr>\n",
       "      <th>13</th>\n",
       "      <td>383</td>\n",
       "      <td>малый полосатик (минке)</td>\n",
       "      <td>0.0</td>\n",
       "      <td>1764.0</td>\n",
       "      <td>[-1.0, 1156.0]</td>\n",
       "    </tr>\n",
       "  </tbody>\n",
       "</table>\n",
       "</div>"
      ],
      "text/plain": [
       "   fish_id                             fish  catch_volume  rec_volume  \\\n",
       "0       45                        аргентина           0.0      1203.0   \n",
       "1       71                   треска ярусная           0.0     45780.0   \n",
       "2      302                          корюшка           0.0        66.0   \n",
       "3      512                         ставрида           0.0     50310.0   \n",
       "6      863            креветка гренландская           0.0      1414.0   \n",
       "8      885                    петух морской           0.0       644.0   \n",
       "10     212                макрурус северный           0.0        60.0   \n",
       "12     158  гадикул (большеглазая тресочка)           0.0      5310.0   \n",
       "13     383          малый полосатик (минке)           0.0      1764.0   \n",
       "\n",
       "                                               id_own  \n",
       "0   [1002.0, 1002.0, 1002.0, 1002.0, 1002.0, 1002....  \n",
       "1                                     [1177.0, 896.0]  \n",
       "2                                      [-1.0, 1219.0]  \n",
       "3                                    [1274.0, 1274.0]  \n",
       "6                                            [1202.0]  \n",
       "8                                    [1002.0, 1002.0]  \n",
       "10                                   [1241.0, 1274.0]  \n",
       "12  [1002.0, 1002.0, 1002.0, 1002.0, 1002.0, 1002....  \n",
       "13                                     [-1.0, 1156.0]  "
      ]
     },
     "execution_count": 18,
     "metadata": {},
     "output_type": "execute_result"
    }
   ],
   "source": [
    "zero_catch"
   ]
  },
  {
   "cell_type": "code",
   "execution_count": 23,
   "id": "25e8747b",
   "metadata": {},
   "outputs": [
    {
     "data": {
      "text/plain": [
       "<matplotlib.legend.Legend at 0x7fe12b97eaf0>"
      ]
     },
     "execution_count": 23,
     "metadata": {},
     "output_type": "execute_result"
    },
    {
     "data": {
      "image/png": "[encoded data removed]",
      "text/plain": [
       "<Figure size 2160x576 with 1 Axes>"
      ]
     },
     "metadata": {
      "needs_background": "light"
     },
     "output_type": "display_data"
    }
   ],
   "source": [
    "plt.figure(figsize=(30, 8))\n",
    "plt.plot(zero_catch['fish'], zero_catch['catch_volume'], color='red', label='catch')\n",
    "plt.bar(zero_catch['fish'], zero_catch['rec_volume'], color='darkblue', label='ext')\n",
    "plt.legend()"
   ]
  },
  {
   "cell_type": "code",
   "execution_count": null,
   "id": "4025b1a1",
   "metadata": {},
   "outputs": [],
   "source": []
  }
 ],
 "metadata": {
  "kernelspec": {
   "display_name": "Python 3",
   "language": "python",
   "name": "python3"
  },
  "language_info": {
   "codemirror_mode": {
    "name": "ipython",
    "version": 3
   },
   "file_extension": ".py",
   "mimetype": "text/x-python",
   "name": "python",
   "nbconvert_exporter": "python",
   "pygments_lexer": "ipython3",
   "version": "3.8.10"
  }
 },
 "nbformat": 4,
 "nbformat_minor": 5
}
